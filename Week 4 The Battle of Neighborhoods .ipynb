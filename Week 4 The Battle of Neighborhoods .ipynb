{
    "cells": [
        {
            "cell_type": "markdown",
            "metadata": {
                "collapsed": true
            },
            "source": "<h1>Hello and welcome in the Battle of Neighborhood ! <h1/>"
        },
        {
            "cell_type": "markdown",
            "metadata": {},
            "source": "Yesterday i had a call from Mr Paul, he is a friend of mine, he is from Toronto. He wants to start his own business by creating a restaurant. The concept of his restaurant is brand new and quiet surprising. It's a mix between Chinese Food and Mexican Food....\nYes i know what you think... This is a terrible idea, no one will ever dip a spring roll in guacamole... But Paul is convinced it's going to work !!"
        },
        {
            "cell_type": "markdown",
            "metadata": {},
            "source": "<b>What Paul want us to do is to determine <u>what are the 5 best neighborhood of Toronto to set up his restaurant ?<u/> <b/>"
        },
        {
            "cell_type": "markdown",
            "metadata": {},
            "source": "I had trouble sleeping.. indeed i couln't really find a way on how to determine the best neighborhood"
        },
        {
            "cell_type": "markdown",
            "metadata": {},
            "source": "..."
        },
        {
            "cell_type": "markdown",
            "metadata": {},
            "source": "..."
        },
        {
            "cell_type": "markdown",
            "metadata": {},
            "source": "..."
        },
        {
            "cell_type": "markdown",
            "metadata": {},
            "source": "But suddently i find it : \n   - I need to find the Neighborhoods where there are the most restaurants, to make sure that people will be willing to visit the one of Paul.\n   - I need to find the Neighborhoods where there are the few number of Mexican and Chinese restaurants, to make sure there will be no real concurrence."
        },
        {
            "cell_type": "markdown",
            "metadata": {},
            "source": "<h5>What Data do we need :<h5/>"
        },
        {
            "cell_type": "markdown",
            "metadata": {},
            "source": "- the set of every Neighborhoods of Toronto.\n- the set of every Restaurants in any Neighborhood of Toronto."
        },
        {
            "cell_type": "markdown",
            "metadata": {},
            "source": "The strategy then will be to marks the Neighborhoods depending on these two criterion. Then we print the 5 highest rated neighbourhoods."
        }
    ],
    "metadata": {
        "kernelspec": {
            "display_name": "Python 3.6",
            "language": "python",
            "name": "python3"
        },
        "language_info": {
            "codemirror_mode": {
                "name": "ipython",
                "version": 3
            },
            "file_extension": ".py",
            "mimetype": "text/x-python",
            "name": "python",
            "nbconvert_exporter": "python",
            "pygments_lexer": "ipython3",
            "version": "3.6.9"
        }
    },
    "nbformat": 4,
    "nbformat_minor": 1
}