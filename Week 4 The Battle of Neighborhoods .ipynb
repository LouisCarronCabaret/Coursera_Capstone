{
    "cells": [
        {
            "cell_type": "markdown",
            "metadata": {
                "collapsed": true
            },
            "source": "<h1>Hello and welcome in the Battle of Neighborhood ! <h1/><h3>Applied Data Science Capstone by IBM/Coursera</h3>"
        },
        {
            "cell_type": "markdown",
            "metadata": {},
            "source": "Yesterday i had a call from Mr Paul, he is a friend of mine, he is from Toronto. He wants to start his own business by creating a restaurant. The concept of his restaurant is brand new and quiet surprising. It's a mix between Chinese Food and Mexican Food....\nYes i know what you think... This is a terrible idea, no one will ever dip a spring roll in guacamole... But Paul is convinced it's going to work !!"
        },
        {
            "cell_type": "markdown",
            "metadata": {},
            "source": "<b>What Paul want us to do is to determine <u>what are the 5 best neighborhood of Toronto to set up his restaurant ?<u/> <b/>"
        },
        {
            "cell_type": "markdown",
            "metadata": {},
            "source": "   This report will be targeted to people who are looking to start a restaurant in Toronto and want to know the perfect localization to do so."
        },
        {
            "cell_type": "markdown",
            "metadata": {},
            "source": "There are two mains points that need to be highlight : \n   - What are the Neighborhoods where there are the most restaurants, to make sure that people will be willing to visit the one of Paul.\n   - What are the Neighborhoods where there are the few number of Mexican and Chinese restaurants, to make sure there will be no real concurrence."
        },
        {
            "cell_type": "markdown",
            "metadata": {},
            "source": "<h5>Data :<h5/>"
        },
        {
            "cell_type": "markdown",
            "metadata": {},
            "source": "- A dataframe of Neighborhoods (with their location) of Toronto. \nThe dataframe will look like : \n| ID | BoroughName | Neighborhoods |longitude|latitude|\n|----------|----------|----------|----------|----------|\n| M3A|North York|Parkwoods|43.753259|-79.329656 | \n| M4A|North York|Parkwater|43.732459|-79.309656 | \n\n\n\n\n- A dataframe of the Restaurants (and their types) in any Neighborhood of Toronto. This is where i will need to leverage the Foursquare location data to find the restaurants in Neighborhood. \nThe dataframe will look like : \n[ID\tNumberOfChineseRestaurants,NumberOfMexicanRestaurants,NumberOfRestaurants]\n[M3A,0,1,8]\n| ID | NumberOfChineseRestaurants| NumberOfMexicanRestaurants |NumberOfRestaurants|\n|----------|----------|----------|----------|\n| M3A|North York|Parkwoods|43.753259|-79.329656 | \n| M4A|North York|Parkwater|43.732459|-79.309656 | \n\n"
        },
        {
            "cell_type": "markdown",
            "metadata": {},
            "source": "Following data sources will be needed to extract/generate the required information:\n\n    - Preprocessing a dataset of the Neighborhood in toronto on wikip\u00e9dia : 'https://en.wikipedia.org/wiki/List_of_postal_codes_of_Canada:_M'. This will imply the librairie \"Beautiful Soup\"\n    \n    - Adding localization into this dataset with another dataset : 'http://cocl.us/Geospatial_data'\n    \n    - Creating a new dataset with the restaurant in the Neighborhood with the foursquare\n    "
        },
        {
            "cell_type": "markdown",
            "metadata": {},
            "source": "The strategy then will be to marks the Neighborhoods depending on these two criterion. Then we print the 5 highest rated neighbourhoods."
        }
    ],
    "metadata": {
        "kernelspec": {
            "display_name": "Python 3.6",
            "language": "python",
            "name": "python3"
        },
        "language_info": {
            "codemirror_mode": {
                "name": "ipython",
                "version": 3
            },
            "file_extension": ".py",
            "mimetype": "text/x-python",
            "name": "python",
            "nbconvert_exporter": "python",
            "pygments_lexer": "ipython3",
            "version": "3.6.9"
        }
    },
    "nbformat": 4,
    "nbformat_minor": 1
}